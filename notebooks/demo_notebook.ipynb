{
  "cells": [
    {
      "cell_type": "markdown",
      "metadata": {},
      "source": [
        "# BIST 100 CNN-LSTM Stock Prediction Demo\n",
        "## BBL 514E - Deep Learning Project\n",
        "\n",
        "This notebook demonstrates the CNN-LSTM model for stock price prediction."
      ]
    },
    {
      "cell_type": "code",
      "execution_count": null,
      "metadata": {},
      "source": [
        "# Import libraries\n",
        "import numpy as np\n",
        "import pandas as pd\n",
        "import tensorflow as tf\n",
        "import matplotlib.pyplot as plt\n",
        "\n",
        "print(f'TensorFlow version: {tf.__version__}')"
      ]
    },
    {
      "cell_type": "markdown",
      "metadata": {},
      "source": [
        "## Load Sample Data\n",
        "Using sample data for demonstration"
      ]
    },
    {
      "cell_type": "code",
      "execution_count": null,
      "metadata": {},
      "source": [
        "# Load sample data\n",
        "sample_data = pd.read_csv('../data/sample_garan.csv')\n",
        "print(f'Sample data shape: {sample_data.shape}')\n",
        "sample_data.head()"
      ]
    },
    {
      "cell_type": "markdown",
      "metadata": {},
      "source": [
        "## Model Architecture\n",
        "CNN-LSTM hybrid model with:\n",
        "- Conv1D: 32 filters\n",
        "- LSTM: 64 units\n",
        "- Dropout: 0.3\n",
        "- Output: 3 days prediction"
      ]
    },
    {
      "cell_type": "code",
      "execution_count": null,
      "metadata": {},
      "source": [
        "# Model parameters\n",
        "SEQ_LENGTH = 10\n",
        "PRED_LENGTH = 3\n",
        "n_features = 5  # Open, High, Low, Close, Volume\n",
        "\n",
        "print(f'Input shape: ({SEQ_LENGTH}, {n_features})')\n",
        "print(f'Output shape: ({PRED_LENGTH},)')"
      ]
    }
  ],
  "metadata": {
    "kernelspec": {
      "display_name": "Python 3",
      "language": "python",
      "name": "python3"
    },
    "language_info": {
      "name": "python",
      "version": "3.8.0"
    }
  },
  "nbformat": 4,
  "nbformat_minor": 4
}